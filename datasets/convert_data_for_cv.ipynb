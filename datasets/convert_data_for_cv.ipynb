{
 "cells": [
  {
   "cell_type": "code",
   "execution_count": 2,
   "id": "62f36b06",
   "metadata": {},
   "outputs": [],
   "source": [
    "import torch\n",
    "from pathlib import Path\n",
    "device=\"cuda\"\n",
    "\n",
    "train_x = torch.load(Path(\".\") / \"face/X_train.pt\", map_location=device)\n",
    "train_y = torch.load(Path(\".\") / \"face/y_train.pt\", map_location=device)\n",
    "train_cf = torch.load(Path(\".\") / \"face/cf_train.pt\", map_location=device)\n",
    "\n",
    "val_x = torch.load(Path(\".\") / \"face/X_val.pt\", map_location=device)\n",
    "val_y = torch.load(Path(\".\") / \"face/y_val.pt\", map_location=device)\n",
    "val_cf = torch.load(Path(\".\") / \"face/cf_val.pt\", map_location=device)"
   ]
  },
  {
   "cell_type": "code",
   "execution_count": 3,
   "id": "57908ed6",
   "metadata": {},
   "outputs": [
    {
     "data": {
      "text/plain": [
       "torch.Size([803, 3, 256, 256])"
      ]
     },
     "execution_count": 3,
     "metadata": {},
     "output_type": "execute_result"
    }
   ],
   "source": [
    "train_x.shape"
   ]
  },
  {
   "cell_type": "code",
   "execution_count": 7,
   "id": "64167caa",
   "metadata": {},
   "outputs": [],
   "source": [
    "x = torch.cat((train_x, val_x))\n",
    "y = torch.cat((train_y, val_y))\n",
    "cf = torch.cat((train_cf, val_cf))"
   ]
  },
  {
   "cell_type": "code",
   "execution_count": 8,
   "id": "99c8f57e",
   "metadata": {},
   "outputs": [],
   "source": [
    "stratify_idxs = y * 8 + cf"
   ]
  },
  {
   "cell_type": "code",
   "execution_count": 18,
   "id": "55201ed8",
   "metadata": {},
   "outputs": [],
   "source": [
    "from sklearn.model_selection import StratifiedKFold\n",
    "import numpy as np\n",
    "skf = StratifiedKFold(n_splits=5)\n",
    "indices = skf.split(np.zeros(len(x)), stratify_idxs.cpu())\n",
    "for fold, (train_idx, test_idx) in enumerate(indices):\n",
    "    torch.save(x[train_idx], Path(\"face\") / f\"X_train_f{fold}.pt\")\n",
    "    torch.save(x[test_idx], Path(\"face\") / f\"X_val_f{fold}.pt\")\n",
    "    torch.save(y[train_idx], Path(\"face\") / f\"y_train_f{fold}.pt\")\n",
    "    torch.save(y[test_idx], Path(\"face\") / f\"y_val_f{fold}.pt\")\n",
    "    torch.save(cf[train_idx], Path(\"face\") / f\"cf_train_f{fold}.pt\")\n",
    "    torch.save(cf[test_idx], Path(\"face\") / f\"cf_val_f{fold}.pt\")"
   ]
  },
  {
   "cell_type": "code",
   "execution_count": 19,
   "id": "d3008f7b",
   "metadata": {},
   "outputs": [
    {
     "name": "stdout",
     "output_type": "stream",
     "text": [
      "torch.Size([201])\n"
     ]
    }
   ],
   "source": [
    "val_cf = torch.load(Path(\".\") / \"face/cf_val_f0.pt\", map_location=device)\n",
    "print(val_cf.shape)"
   ]
  },
  {
   "cell_type": "code",
   "execution_count": 21,
   "id": "afffb9cc",
   "metadata": {},
   "outputs": [
    {
     "data": {
      "text/plain": [
       "torch.Size([803])"
      ]
     },
     "execution_count": 21,
     "metadata": {},
     "output_type": "execute_result"
    }
   ],
   "source": [
    "train_cf.shape"
   ]
  },
  {
   "cell_type": "code",
   "execution_count": null,
   "id": "4dc54ff9",
   "metadata": {},
   "outputs": [],
   "source": []
  }
 ],
 "metadata": {
  "kernelspec": {
   "display_name": "Python 3 (ipykernel)",
   "language": "python",
   "name": "python3"
  },
  "language_info": {
   "codemirror_mode": {
    "name": "ipython",
    "version": 3
   },
   "file_extension": ".py",
   "mimetype": "text/x-python",
   "name": "python",
   "nbconvert_exporter": "python",
   "pygments_lexer": "ipython3",
   "version": "3.7.12"
  }
 },
 "nbformat": 4,
 "nbformat_minor": 5
}
